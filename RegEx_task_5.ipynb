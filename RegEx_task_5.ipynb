{
  "nbformat": 4,
  "nbformat_minor": 0,
  "metadata": {
    "colab": {
      "provenance": [],
      "include_colab_link": true
    },
    "kernelspec": {
      "name": "python3",
      "display_name": "Python 3"
    },
    "language_info": {
      "name": "python"
    }
  },
  "cells": [
    {
      "cell_type": "markdown",
      "metadata": {
        "id": "view-in-github",
        "colab_type": "text"
      },
      "source": [
        "<a href=\"https://colab.research.google.com/github/AMAL1807/DSMLTASK/blob/main/RegEx_task_5.ipynb\" target=\"_parent\"><img src=\"https://colab.research.google.com/assets/colab-badge.svg\" alt=\"Open In Colab\"/></a>"
      ]
    },
    {
      "cell_type": "markdown",
      "source": [
        "1. Write a Python program to check that a string contains only a certain set of characters (in this case a-z, A-Z and 0-9).\n",
        "\n"
      ],
      "metadata": {
        "id": "fpQX9wBhb6ox"
      }
    },
    {
      "cell_type": "code",
      "execution_count": null,
      "metadata": {
        "id": "5HKhizIkbt59",
        "colab": {
          "base_uri": "https://localhost:8080/"
        },
        "outputId": "f9d688d3-e6bf-447c-dc3a-f38bdfd15e0a"
      },
      "outputs": [
        {
          "output_type": "stream",
          "name": "stdout",
          "text": [
            "'Hello123': True\n",
            "'Hello 123': False\n",
            "'Hello!': False\n",
            "'123456': True\n",
            "'abcdefg': True\n",
            "'ABCDEFG': True\n"
          ]
        }
      ],
      "source": [
        "import re\n",
        "\n",
        "def is_valid_string(input_string):\n",
        "    # Define the allowed character set using regex\n",
        "    pattern = re.compile(\"^[a-zA-Z0-9]+$\")\n",
        "    # Check if the input string matches the pattern\n",
        "    if pattern.match(input_string):\n",
        "        return True\n",
        "    else:\n",
        "        return False\n",
        "\n",
        "# Test cases\n",
        "test_strings = [\"Hello123\", \"Hello 123\", \"Hello!\", \"123456\", \"abcdefg\", \"ABCDEFG\"]\n",
        "for s in test_strings:\n",
        "    result = is_valid_string(s)\n",
        "    print(f\"'{s}': {'True' if result else 'False'}\")\n"
      ]
    },
    {
      "cell_type": "markdown",
      "source": [
        "2. Write a Python program that matches a string that has an a followed by zero or more b's.\n",
        "\n"
      ],
      "metadata": {
        "id": "rtdxRzltcRtS"
      }
    },
    {
      "cell_type": "code",
      "source": [
        "import re\n",
        "\n",
        "def match_string(string):\n",
        "    pattern = r'ab*'\n",
        "    if re.fullmatch(pattern, string):\n",
        "        return True\n",
        "    else:\n",
        "        return False\n",
        "\n",
        "# Test cases\n",
        "test_strings = [\"a\", \"ab\", \"abb\", \"abbb\", \"b\", \"ba\", \"aa\", \"aab\", \"abbbb\"]\n",
        "for s in test_strings:\n",
        "    print(f\"string: '{s}' -> Match: {match_string(s)}\")"
      ],
      "metadata": {
        "id": "ZjdCBYZAcZGl",
        "colab": {
          "base_uri": "https://localhost:8080/"
        },
        "outputId": "271d76f5-bd56-4b35-d829-9a508da873cb"
      },
      "execution_count": null,
      "outputs": [
        {
          "output_type": "stream",
          "name": "stdout",
          "text": [
            "string: 'a' -> Match: True\n",
            "string: 'ab' -> Match: True\n",
            "string: 'abb' -> Match: True\n",
            "string: 'abbb' -> Match: True\n",
            "string: 'b' -> Match: False\n",
            "string: 'ba' -> Match: False\n",
            "string: 'aa' -> Match: False\n",
            "string: 'aab' -> Match: False\n",
            "string: 'abbbb' -> Match: True\n"
          ]
        }
      ]
    },
    {
      "cell_type": "markdown",
      "source": [
        "3. Replace only the first occurrence of 5 with five for the given string\n",
        "\n"
      ],
      "metadata": {
        "id": "kyvbz3eNcZri"
      }
    },
    {
      "cell_type": "code",
      "source": [
        "ip = 'They ate 5 apples and 5 oranges'\n",
        "\n",
        "def replace_first_occurrence(input_string):\n",
        "    # Replace the first occurrence of '5' with 'five'\n",
        "    result_string = input_string.replace('5', 'five', 1)\n",
        "    return result_string\n",
        "\n",
        "# Example usage\n",
        "input_string = \"They ate 5 apples and 5 oranges\"\n",
        "output_string = replace_first_occurrence(input_string)\n",
        "print(output_string)\n"
      ],
      "metadata": {
        "id": "pgZy45dxcqSg",
        "colab": {
          "base_uri": "https://localhost:8080/"
        },
        "outputId": "5f731265-0a6e-492b-8605-37df70d8fe43"
      },
      "execution_count": null,
      "outputs": [
        {
          "output_type": "stream",
          "name": "stdout",
          "text": [
            "They ate five apples and 5 oranges\n"
          ]
        }
      ]
    },
    {
      "cell_type": "markdown",
      "source": [
        "4. Write a Python program that matches a string that has an a followed by three 'b'.\n",
        "\n"
      ],
      "metadata": {
        "id": "h_b1-o6ncuzM"
      }
    },
    {
      "cell_type": "code",
      "source": [
        "import re\n",
        "\n",
        "def match_abbb(string):\n",
        "    # Define the regex pattern to match 'a' followed by three 'b's\n",
        "    pattern = r'abbb'\n",
        "\n",
        "    # Use re.search to find the pattern in the string\n",
        "    match = re.search(pattern, string)\n",
        "\n",
        "    # check if a match was found\n",
        "    if match:\n",
        "        return f\"Match found: '{match.group()}' at position {match.start()}\"\n",
        "    else:\n",
        "        return \"No match found\"\n",
        "\n",
        "# Example usage\n",
        "strings_to_test = [\"abbb\",\"aabbb\",\"abbbb\",\"ababbb\",\"aaaabbb\",\"xyz\",\"ab\",\"bbb\",]\n",
        "for test_string in strings_to_test:\n",
        "    result = match_abbb(test_string)\n",
        "    print(f\"Testing '{test_string}': {result}\")"
      ],
      "metadata": {
        "id": "eWIRl3LccqwE",
        "colab": {
          "base_uri": "https://localhost:8080/"
        },
        "outputId": "ae9f9e84-d0c0-48d9-8733-2359b048153f"
      },
      "execution_count": null,
      "outputs": [
        {
          "output_type": "stream",
          "name": "stdout",
          "text": [
            "Testing 'abbb': Match found: 'abbb' at position 0\n",
            "Testing 'aabbb': Match found: 'abbb' at position 1\n",
            "Testing 'abbbb': Match found: 'abbb' at position 0\n",
            "Testing 'ababbb': Match found: 'abbb' at position 2\n",
            "Testing 'aaaabbb': Match found: 'abbb' at position 3\n",
            "Testing 'xyz': No match found\n",
            "Testing 'ab': No match found\n",
            "Testing 'bbb': No match found\n"
          ]
        }
      ]
    },
    {
      "cell_type": "markdown",
      "source": [
        "5. Write a Python program that matches a string that has an 'a' followed by anything ending in 'b'.\n",
        "\n"
      ],
      "metadata": {
        "id": "K2vPe01bc2LN"
      }
    },
    {
      "cell_type": "code",
      "source": [
        "import re\n",
        "\n",
        "def match_a_anything_b(string):\n",
        "    # Define the regex pattern to match 'a' followed by anything ending in 'b'\n",
        "    pattern = r'a.*b'\n",
        "\n",
        "    # Use re.search to find the pattern in the string\n",
        "    match = re.search(pattern, string)\n",
        "\n",
        "    #check if a match was found\n",
        "    if match:\n",
        "        return f\"Match.found: '{match.group()}' at position {match.start()}\"\n",
        "    else:\n",
        "        return \"No match found\"\n",
        "\n",
        "# Example usage\n",
        "strings_to_test = [\"ab\",\"a123b\",\"a!@#b\",\"a b\",\"axb\",\"a ends with b\",\"no match here\",\"b at the start a and b at the end\",\"onlya\",\"end with b\"]\n",
        "\n",
        "for test_string in strings_to_test:\n",
        "    result = match_a_anything_b(test_string)\n",
        "    print(f\"Testing '{test_string}': {result}\")\n"
      ],
      "metadata": {
        "id": "f8KfX59qc3UJ",
        "colab": {
          "base_uri": "https://localhost:8080/"
        },
        "outputId": "e283867a-444a-4df6-8efa-e153d676b216"
      },
      "execution_count": null,
      "outputs": [
        {
          "output_type": "stream",
          "name": "stdout",
          "text": [
            "Testing 'ab': Match.found: 'ab' at position 0\n",
            "Testing 'a123b': Match.found: 'a123b' at position 0\n",
            "Testing 'a!@#b': Match.found: 'a!@#b' at position 0\n",
            "Testing 'a b': Match.found: 'a b' at position 0\n",
            "Testing 'axb': Match.found: 'axb' at position 0\n",
            "Testing 'a ends with b': Match.found: 'a ends with b' at position 0\n",
            "Testing 'no match here': No match found\n",
            "Testing 'b at the start a and b at the end': Match.found: 'at the start a and b' at position 2\n",
            "Testing 'onlya': No match found\n",
            "Testing 'end with b': No match found\n"
          ]
        }
      ]
    },
    {
      "cell_type": "markdown",
      "source": [
        "6. Write a Python program to search for numbers (0-9) of length between 1 and 3 in a given string."
      ],
      "metadata": {
        "id": "NyL-DhqXdZi7"
      }
    },
    {
      "cell_type": "code",
      "source": [
        "txt=\"Exercises number 1, 12, 13, and 345 are important\"\n",
        "\n",
        "import re\n",
        "def find_numbers_in_string(txt):\n",
        "    # Regular expression to find numbers of length 1 to 3\n",
        "    pattern = r'\\b\\d{1,3}\\b'\n",
        "    matches = re.findall(pattern, txt)\n",
        "    return matches\n",
        "\n",
        "# Example usage\n",
        "txt=\"Exercises number 1, 12, 13, and 345 are important\"\n",
        "numbers = find_numbers_in_string(txt)\n",
        "print(\"Found numbers:\",numbers)\n"
      ],
      "metadata": {
        "id": "pWsu0HljdnKX",
        "colab": {
          "base_uri": "https://localhost:8080/"
        },
        "outputId": "c6eb5c44-6567-4a4f-9d8f-4caa397bd2fa"
      },
      "execution_count": null,
      "outputs": [
        {
          "output_type": "stream",
          "name": "stdout",
          "text": [
            "Found numbers: ['1', '12', '13', '345']\n"
          ]
        }
      ]
    },
    {
      "cell_type": "markdown",
      "source": [
        "7. Write a Python program to search for literal strings within a string.\\\n",
        "Sample text : 'The quick brown fox jumps over the lazy dog.' \\\n",
        "Searched words : 'fox', 'dog', 'horse'"
      ],
      "metadata": {
        "id": "aWaHWXFjdqy7"
      }
    },
    {
      "cell_type": "code",
      "source": [
        "def find_words_in_string(sample_text, searched_words):\n",
        "    results ={}\n",
        "    for word in searched_words:\n",
        "        if word in sample_text:\n",
        "            results[word] = \"Found\"\n",
        "        else:\n",
        "            results[word] = \"Not Found\"\n",
        "    return results\n",
        "\n",
        "# Example usage\n",
        "sample_text = 'The quick brown fox jumps over the lazy dog.'\n",
        "searched_words = ['fox','dog','horse']\n",
        "results = find_words_in_string(sample_text, searched_words)\n",
        "\n",
        "for word, status in results.items():\n",
        "    print(f\"word '{word}': {status}\")\n"
      ],
      "metadata": {
        "id": "bVAMeTMddnmf",
        "colab": {
          "base_uri": "https://localhost:8080/"
        },
        "outputId": "d643d41d-9bab-4b46-907f-0077b4f2b4b0"
      },
      "execution_count": null,
      "outputs": [
        {
          "output_type": "stream",
          "name": "stdout",
          "text": [
            "word 'fox': Found\n",
            "word 'dog': Found\n",
            "word 'horse': Not Found\n"
          ]
        }
      ]
    },
    {
      "cell_type": "markdown",
      "source": [
        "8. Write a Python program to search for a literal string in a string and also find the location within the original string where the pattern occurs.\n",
        "\n",
        "Sample text : 'The quick brown fox jumps over the lazy dog.' \\\n",
        "Searched words : 'fox'"
      ],
      "metadata": {
        "id": "2cgZLc6Yd0sE"
      }
    },
    {
      "cell_type": "code",
      "source": [
        "import re\n",
        "\n",
        "def find_word_locations(sample_text, searched_word):\n",
        "    results = []\n",
        "    pattern = re.escape(searched_word) # Escape the searched word to treat it as a literal string\n",
        "    for match in re.finditer(pattern, sample_text):\n",
        "        start_index = match.start()\n",
        "        end_index = match.end()\n",
        "        results.append((start_index, end_index))\n",
        "    return results\n",
        "\n",
        "# Example usage\n",
        "sample_text = 'The quick brown fox jumps over the lazy dog.'\n",
        "searched_word = 'fox'\n",
        "locations = find_word_locations(sample_text, searched_word)\n",
        "\n",
        "if locations:\n",
        "    for start, end in locations:\n",
        "        print(f\"Word '{searched_word}' found at: start index {start}, end index {end}\")\n",
        "else:\n",
        "    print(f\"Word '{searched_word}' not found in the sample text.\")\n"
      ],
      "metadata": {
        "id": "Tj1FCCx4d3zZ",
        "colab": {
          "base_uri": "https://localhost:8080/"
        },
        "outputId": "93df30c6-1168-416d-b1c4-e2f90975466f"
      },
      "execution_count": null,
      "outputs": [
        {
          "output_type": "stream",
          "name": "stdout",
          "text": [
            "Word 'fox' found at: start index 16, end index 19\n"
          ]
        }
      ]
    },
    {
      "cell_type": "markdown",
      "source": [
        "9.  Write a Python program to extract year, month and date from an URL"
      ],
      "metadata": {
        "id": "ixuwdsnvdtcP"
      }
    },
    {
      "cell_type": "code",
      "source": [
        "import re\n",
        "url1= \"https://www.washingtonpost.com/news/football-insider/wp/2016/09/02/odell-beckhams-fame-rests-on-one-stupid-little-ball-josh-norman-tells-author/\"\n"
      ],
      "metadata": {
        "id": "uWA2_OfJeFpw",
        "colab": {
          "base_uri": "https://localhost:8080/"
        },
        "outputId": "940566ff-599a-4551-9051-734fd18e3085"
      },
      "execution_count": null,
      "outputs": [
        {
          "output_type": "stream",
          "name": "stdout",
          "text": [
            "('2016/09/02', '2016', '09', '02')\n"
          ]
        }
      ]
    },
    {
      "cell_type": "code",
      "source": [
        "import re\n",
        "url1= \"https://www.washingtonpost.com/news/football-insider/wp/2016/09/02/odell-beckhams-fame-rests-on-one-stupid-little-ball-josh-norman\"\n",
        "p=re.compile('\\d{4}/\\d{2}/\\d{2}/')\n",
        "print(p.findall(url1))"
      ],
      "metadata": {
        "colab": {
          "base_uri": "https://localhost:8080/"
        },
        "id": "CF4ioOhsiyNn",
        "outputId": "66be8b00-fa62-4c36-e9e5-d2f4bf64d7e8"
      },
      "execution_count": null,
      "outputs": [
        {
          "output_type": "stream",
          "name": "stdout",
          "text": [
            "['2016/09/02/']\n"
          ]
        }
      ]
    },
    {
      "cell_type": "markdown",
      "source": [
        "10. Write a Python program to find URLs in a string.\n",
        "\n"
      ],
      "metadata": {
        "id": "Qdob8Ojkea-W"
      }
    },
    {
      "cell_type": "code",
      "source": [
        "import re\n",
        "\n",
        "def find_urls_in_string(input_string):\n",
        "    # Regular expression pattern to match URLs\n",
        "    url_pattern = re.compile(r'https?://(?:[-\\w.]|(?:%[\\da-fA-F]{2}))+')\n",
        "\n",
        "    # Find all URLs in the input string\n",
        "    urls = url_pattern.findall(input_string)\n",
        "\n",
        "    return urls\n",
        "\n",
        "# Example usage\n",
        "input_string = \"Here are some URLs: https://www.example.com, http://test.com, and https://sub.domain.com/page.\"\n",
        "urls = find_urls_in_string(input_string)\n",
        "print(\"Found URLs:\", urls)\n",
        "\n"
      ],
      "metadata": {
        "id": "d9KUcdQEeIJu",
        "colab": {
          "base_uri": "https://localhost:8080/"
        },
        "outputId": "3b4c3f4f-d70a-43f8-f66f-c5fc4fed0df4"
      },
      "execution_count": null,
      "outputs": [
        {
          "output_type": "stream",
          "name": "stdout",
          "text": [
            "Found URLs: ['https://www.example.com', 'http://test.com', 'https://sub.domain.com']\n"
          ]
        }
      ]
    },
    {
      "cell_type": "markdown",
      "source": [
        "11. Write a Python program to remove the parenthesis area in a string.\\\n",
        "\n",
        "Sample data : [\"example (.com)\", \"w3resource\", \"github (.com)\", \"stackoverflow (.com)\"] \\\n",
        "Expected Output: \\\n",
        "example  \\\n",
        "w3resource \\\n",
        "github  \\\n",
        "stackoverflow. \\\n",
        "\n"
      ],
      "metadata": {
        "id": "5mX_cCEFepSi"
      }
    },
    {
      "cell_type": "code",
      "source": [
        "import re\n",
        "\n",
        "def remove_parenthesis_area(strings):\n",
        "    # Use regular expressions to remove text within parentheses\n",
        "    pattern = re.compile(r'\\s*\\(.*?\\)\\s*')\n",
        "    result = [pattern.sub('', s) for s in strings]\n",
        "    return result\n",
        "\n",
        "# Sample data\n",
        "sample_data = [\"example (.com)\", \"w3resource\", \"github (.com)\", \"stackoverflow (.com)\"]\n",
        "\n",
        "# Get the result\n",
        "output = remove_parenthesis_area(sample_data)\n",
        "\n",
        "# Print the output\n",
        "for item in output:\n",
        "    print(item)"
      ],
      "metadata": {
        "id": "CNYOSWfLee_M",
        "colab": {
          "base_uri": "https://localhost:8080/"
        },
        "outputId": "0a40312d-ba52-4886-db2c-92aaf99859d0"
      },
      "execution_count": null,
      "outputs": [
        {
          "output_type": "stream",
          "name": "stdout",
          "text": [
            "example\n",
            "w3resource\n",
            "github\n",
            "stackoverflow\n"
          ]
        }
      ]
    },
    {
      "cell_type": "markdown",
      "source": [
        "12. Write a Python program to concatenate the consecutive numbers in a given string. \\\n",
        "\n",
        "Original string:  \\\n",
        "Enter at 1 20 Kearny Street. The security desk can direct you to floor 1 6. Please have your identification ready.  \\\n",
        "\n",
        "After concatenating the consecutive numbers in the said string:  \\\n",
        "Enter at 120 Kearny Street. The security desk can direct you to floor 16. Please have your identification ready."
      ],
      "metadata": {
        "id": "sRhveFHXe7nz"
      }
    },
    {
      "cell_type": "code",
      "source": [
        "import re\n",
        "\n",
        "def concatenate_consecutive_numbers(input_string):\n",
        "    # Regular expression pattern to find consecutive numbers seperated by spaces\n",
        "    pattern = re.compile(r'(\\d+)\\s+(?=\\d+)')\n",
        "\n",
        "    # Substitute matches with concatenated numbers\n",
        "    modified_string = pattern.sub(r'\\1', input_string)\n",
        "\n",
        "    return modified_string\n",
        "\n",
        "# Original string\n",
        "original_string = (\"Enter at 1 20 kearny street.The security desk can direct you to floor 1 6. Please have your identification ready.\")\n",
        "\n",
        "# Get the result\n",
        "result_string = concatenate_consecutive_numbers(original_string)\n",
        "\n",
        "# Print the result\n",
        "print(\"original string:\")\n",
        "print(original_string)\n",
        "print(\"\\nAfter concatenating the consecutive numbers in the said string:\")\n",
        "print(result_string)"
      ],
      "metadata": {
        "id": "4dcBL0RTe_zP",
        "colab": {
          "base_uri": "https://localhost:8080/"
        },
        "outputId": "cb6e8546-809a-4b2c-f76b-7f9b81bc3931"
      },
      "execution_count": null,
      "outputs": [
        {
          "output_type": "stream",
          "name": "stdout",
          "text": [
            "original string:\n",
            "Enter at 1 20 kearny street.The security desk can direct you to floor 1 6. Please have your identification ready.\n",
            "\n",
            "After concatenating the consecutive numbers in the said string:\n",
            "Enter at 120 kearny street.The security desk can direct you to floor 16. Please have your identification ready.\n"
          ]
        }
      ]
    },
    {
      "cell_type": "markdown",
      "source": [],
      "metadata": {
        "id": "rENrD10afBB3"
      }
    }
  ]
}