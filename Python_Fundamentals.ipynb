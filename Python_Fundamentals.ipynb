{
  "nbformat": 4,
  "nbformat_minor": 0,
  "metadata": {
    "colab": {
      "provenance": [],
      "authorship_tag": "ABX9TyN6mDrSnq0Fb/10XYK52+Xu",
      "include_colab_link": true
    },
    "kernelspec": {
      "name": "python3",
      "display_name": "Python 3"
    },
    "language_info": {
      "name": "python"
    }
  },
  "cells": [
    {
      "cell_type": "markdown",
      "metadata": {
        "id": "view-in-github",
        "colab_type": "text"
      },
      "source": [
        "<a href=\"https://colab.research.google.com/github/AMAL1807/DSMLTASK/blob/main/Python_Fundamentals.ipynb\" target=\"_parent\"><img src=\"https://colab.research.google.com/assets/colab-badge.svg\" alt=\"Open In Colab\"/></a>"
      ]
    },
    {
      "cell_type": "markdown",
      "source": [
        "Exercise 1  \n",
        "Write Python code that prints your name, student number and email address.  \n",
        "An example runs of the program:  \n",
        "Bob\n",
        "ST1001\n",
        "bob@gmail.com\n"
      ],
      "metadata": {
        "id": "OgViFfquBjqf"
      }
    },
    {
      "cell_type": "code",
      "source": [
        "\n",
        "NAME = \"AMAL.A.P\"\n",
        "STUDENT_NUMBER = \"24\"\n",
        "EMAIL_ADDRESS = \"amalvirat1807@gmail.com\"\n",
        "\n",
        "print(NAME)\n",
        "print(STUDENT_NUMBER)\n",
        "print(EMAIL_ADDRESS)"
      ],
      "metadata": {
        "colab": {
          "base_uri": "https://localhost:8080/"
        },
        "id": "RpCmPN8MB0EU",
        "outputId": "3ae9dae2-4a02-4765-ed0a-be1eae484523"
      },
      "execution_count": 6,
      "outputs": [
        {
          "output_type": "stream",
          "name": "stdout",
          "text": [
            "AMAL.A.P\n",
            "24\n",
            "amalambu6@gmail.com\n"
          ]
        }
      ]
    },
    {
      "cell_type": "markdown",
      "source": [
        "Exercise 2\n",
        "Write Python code that prints your name, student number and email address using escape sequences.     \n",
        "An example runs of the program:\n",
        "Bob\n",
        "ST1001\n",
        "bob@gmail.com\n"
      ],
      "metadata": {
        "id": "LKvbG3_BLJT4"
      }
    },
    {
      "cell_type": "code",
      "source": [
        "print(\"AMAL.A.P\\nST24\\namalvirat1807@gmail.com\")\n"
      ],
      "metadata": {
        "id": "pCIsbPN5LIZ3",
        "outputId": "5cdf087b-679e-43e3-f16c-0b274184b84e",
        "colab": {
          "base_uri": "https://localhost:8080/"
        }
      },
      "execution_count": 7,
      "outputs": [
        {
          "output_type": "stream",
          "name": "stdout",
          "text": [
            "AMAL.A.P\n",
            "ST24\n",
            "amalvirat1807@gmail.com\n"
          ]
        }
      ]
    },
    {
      "cell_type": "markdown",
      "source": [
        "Exercise 3\n",
        "Write Python code that add, subtract, multiply and divide the two numbers. You can use the two numbers 14 and 7.  An example run of the program:  \n",
        "14 + 7 = 21\n",
        "14 * 7 = 98\n",
        "14 – 7 = 7\n",
        "14 / 7 = 2\n"
      ],
      "metadata": {
        "id": "k_Wq2_B3MndR"
      }
    },
    {
      "cell_type": "code",
      "source": [
        "a = int(input(\"Enter First Number : \"))\n",
        "b = int(input(\"Enter Second Number : \"))\n",
        "\n",
        "print(\"addition of \", a, \"and\", b, \"is\", a+b)\n",
        "print(\"subtraction of \", a, \"and\", b, \"is\", a-b)\n",
        "print(\"product of \", a, \"and\", b, \"is\", a*b)\n",
        "if b != 0:\n",
        "    print(\"division of \", a, \"and\", b, \"is\", a/b)\n",
        "else:\n",
        "    print(\"Division by zero is not allowed.\")\n",
        "    print(\"division by zero is not possible\")"
      ],
      "metadata": {
        "id": "CGNvBfqaMpua",
        "outputId": "cef5e74f-b857-4992-bea7-0070051d037f",
        "colab": {
          "base_uri": "https://localhost:8080/"
        }
      },
      "execution_count": 9,
      "outputs": [
        {
          "output_type": "stream",
          "name": "stdout",
          "text": [
            "Enter First Number : 14\n",
            "Enter Second Number : 7\n",
            "addition of  14 and 7 is 21\n",
            "subtraction of  14 and 7 is 7\n",
            "product of  14 and 7 is 98\n",
            "division of  14 and 7 is 2.0\n"
          ]
        }
      ]
    },
    {
      "cell_type": "markdown",
      "source": [
        "Exercise 4\n",
        "Write Python code that displays the numbers from 1 to 5 as steps.\n",
        "An example runs of the program:\n",
        "1\n",
        "2\n",
        "3\n",
        "4\n",
        "5\n"
      ],
      "metadata": {
        "id": "L0_lYtUCQAfS"
      }
    },
    {
      "cell_type": "code",
      "source": [
        "for i in range(1, 6):\n",
        "    print(i)\n"
      ],
      "metadata": {
        "id": "BqV3mwyBQAKA",
        "outputId": "08da6d84-e720-4000-93ed-00414cb66256",
        "colab": {
          "base_uri": "https://localhost:8080/"
        }
      },
      "execution_count": 10,
      "outputs": [
        {
          "output_type": "stream",
          "name": "stdout",
          "text": [
            "1\n",
            "2\n",
            "3\n",
            "4\n",
            "5\n"
          ]
        }
      ]
    },
    {
      "cell_type": "markdown",
      "source": [
        "Exercise 5\n",
        "Write Python code that outputs the following sentence (including the quotation marks and line break) to the screen:\n",
        "An example runs of the program:  \n",
        "\"SDK\" stands for \"Software Development Kit\", whereas\n",
        "\"IDE\" stands for \"Integrated Development Environment\".\n"
      ],
      "metadata": {
        "id": "ig5062bCRSQf"
      }
    },
    {
      "cell_type": "code",
      "source": [
        "print(\"\\\"SDK\\\" stands for \\\"Software Development Kit\\\", whereas\\n\\\"IDE\\\" stands for \\\"Integrated Development Environment\\\".\")\n"
      ],
      "metadata": {
        "id": "ofAzqrTQRU2F",
        "outputId": "43d935f5-e28b-4955-d985-087b252c8e21",
        "colab": {
          "base_uri": "https://localhost:8080/"
        }
      },
      "execution_count": 11,
      "outputs": [
        {
          "output_type": "stream",
          "name": "stdout",
          "text": [
            "\"SDK\" stands for \"Software Development Kit\", whereas\n",
            "\"IDE\" stands for \"Integrated Development Environment\".\n"
          ]
        }
      ]
    },
    {
      "cell_type": "markdown",
      "source": [
        "Exercise 6\n",
        "Practice and check the output\n",
        "print(\"python is an \\\"awesome\\\" language.\")\n",
        "print(\"python\\n\\t2023\")\n",
        "print('I\\'m from Entri.\\b')\n",
        "print(\"\\65\")\n",
        "print(\"\\x65\")\n",
        "print(\"Entri\", \"2023\", sep=\"\\n\")\n",
        "print(\"Entri\", \"2023\", sep=\"\\b\")\n",
        "print(\"Entri\", \"2023\", sep=\"*\", end=\"\\b\\b\\b\\b\")\n"
      ],
      "metadata": {
        "id": "Eu1Cll0eUe1f"
      }
    },
    {
      "cell_type": "code",
      "source": [
        "print(\"python is an \\\"awesome\\\" language.\")\n",
        "print(\"python\\n\\t2023\")\n",
        "print('I\\'m from Entri.\\b')\n",
        "print(\"\\65\")\n",
        "print(\"\\x65\")\n",
        "print(\"Entri\", \"2023\", sep=\"\\n\")\n",
        "print(\"Entri\", \"2023\", sep=\"\\b\")\n",
        "print(\"Entri\", \"2023\", sep=\"*\", end=\"\\b\\b\\b\\b\")\n"
      ],
      "metadata": {
        "id": "rkfoZ2TZUgsp",
        "outputId": "69e6e401-a449-4c3d-c47d-44ce9dd285ea",
        "colab": {
          "base_uri": "https://localhost:8080/"
        }
      },
      "execution_count": 12,
      "outputs": [
        {
          "output_type": "stream",
          "name": "stdout",
          "text": [
            "python is an \"awesome\" language.\n",
            "python\n",
            "\t2023\n",
            "I'm from Entri.\b\n",
            "5\n",
            "e\n",
            "Entri\n",
            "2023\n",
            "Entri\b2023\n",
            "Entri*2023\b\b\b\b"
          ]
        }
      ]
    },
    {
      "cell_type": "markdown",
      "source": [
        "Exercise 7\n",
        "Define the variables below. Print the types of each variable. What is the sum of your variables? (Hint: use a type conversion function.) What datatype is the sum?\n",
        "num=23\n",
        "textnum=\"57\"\n",
        "decimal=98.3"
      ],
      "metadata": {
        "id": "uL6x-QKHWovF"
      }
    },
    {
      "cell_type": "code",
      "source": [
        "# Define variables\n",
        "num = 23\n",
        "textnum = \"57\"\n",
        "decimal = 98.3\n",
        "\n",
        "# Print types of each variable\n",
        "print(\"Type of num:\", type(num))\n",
        "print(\"Type of textnum:\", type(textnum))\n",
        "print(\"Type of decimal:\", type(decimal))\n",
        "\n",
        "# Convert textnum to integer and calculate the sum\n",
        "sum_of_variables = num + int(textnum) + decimal\n",
        "print(\"Sum of variables:\", sum_of_variables)\n",
        "\n",
        "# Print the type of the sum\n",
        "print(\"Type of sum_of_variables:\", type(sum_of_variables))\n"
      ],
      "metadata": {
        "id": "cy4VYfPtWqKf",
        "outputId": "5f9edea9-a526-412e-93bd-5d4d744bc9c8",
        "colab": {
          "base_uri": "https://localhost:8080/"
        }
      },
      "execution_count": 13,
      "outputs": [
        {
          "output_type": "stream",
          "name": "stdout",
          "text": [
            "Type of num: <class 'int'>\n",
            "Type of textnum: <class 'str'>\n",
            "Type of decimal: <class 'float'>\n",
            "Sum of variables: 178.3\n",
            "Type of sum_of_variables: <class 'float'>\n"
          ]
        }
      ]
    },
    {
      "cell_type": "markdown",
      "source": [
        "Exercise 8\n",
        "calculate the number of minutes in a year using variables for each unit of time. print a statement that describes what your code does also. Create three variables to store no of days in a year, minute in a hour, hours in a day, then calculate the total minutes in a year and print the values\n",
        "(hint) total number of minutes in an year =No.of days in an year * Hours in a day * Minutes in an hour\n"
      ],
      "metadata": {
        "id": "TVTo8orxaDag"
      }
    },
    {
      "cell_type": "code",
      "source": [
        "# Description of the code\n",
        "print(\"This code calculates the number of minutes in a year.\")\n",
        "\n",
        "# Define variables\n",
        "days_in_year = 365\n",
        "hours_in_day = 24\n",
        "minutes_in_hour = 60\n",
        "\n",
        "# Calculate total minutes in a year\n",
        "total_minutes_in_year = days_in_year * hours_in_day * minutes_in_hour\n",
        "\n",
        "# Print the values\n",
        "print(\"Number of days in a year:\", days_in_year)\n",
        "print(\"Number of hours in a day:\", hours_in_day)\n",
        "print(\"Number of minutes in an hour:\", minutes_in_hour)\n",
        "print(\"Total number of minutes in a year:\", total_minutes_in_year)\n"
      ],
      "metadata": {
        "id": "IMmJPT-GZ9CT",
        "outputId": "4542359d-4c25-4e53-a77e-3de5bbe28b76",
        "colab": {
          "base_uri": "https://localhost:8080/"
        }
      },
      "execution_count": 14,
      "outputs": [
        {
          "output_type": "stream",
          "name": "stdout",
          "text": [
            "This code calculates the number of minutes in a year.\n",
            "Number of days in a year: 365\n",
            "Number of hours in a day: 24\n",
            "Number of minutes in an hour: 60\n",
            "Total number of minutes in a year: 525600\n"
          ]
        }
      ]
    },
    {
      "cell_type": "markdown",
      "source": [
        "Exercise 9\n",
        "Write Python code that asks the user to enter his/her name and then output/prints his/her name with a greeting.\n",
        "An example runs of the program:\n",
        "Please enter you name: Tony\n",
        "Hi Tony, welcome to Python programming :)\n"
      ],
      "metadata": {
        "id": "tXJ2E8tvaVJf"
      }
    },
    {
      "cell_type": "code",
      "source": [
        "# Ask the user to enter their name\n",
        "name = input(\"Please enter your name: \")\n",
        "\n",
        "# Print a greeting message with the user's name\n",
        "print(\"Hi \" + name + \", welcome to Python programming :)\")\n"
      ],
      "metadata": {
        "id": "bH10X42CaWw7",
        "outputId": "cbdbf9f8-e90d-4160-c12a-bd77e825ba56",
        "colab": {
          "base_uri": "https://localhost:8080/"
        }
      },
      "execution_count": 15,
      "outputs": [
        {
          "output_type": "stream",
          "name": "stdout",
          "text": [
            "Please enter your name: Tony\n",
            "Hi Tony, welcome to Python programming :)\n"
          ]
        }
      ]
    },
    {
      "cell_type": "markdown",
      "source": [
        "Exercise 10\n",
        "Name your file: PoundsToDollars.py\n",
        "Write a program that asks the user to enter an amount in pounds (£) and the program calculates and converts an amount in dollar ($)\n",
        "An example runs of the program:\n",
        "Please enter amount in pounds: XXX\n",
        "£ XXX are $ XXX"
      ],
      "metadata": {
        "id": "qFToFVYvaXvr"
      }
    },
    {
      "cell_type": "code",
      "source": [
        "# Ask the user to enter the amount in pounds\n",
        "pounds = float(input(\"Please enter the amount in pounds (£): \"))\n",
        "\n",
        "# Define the conversion rate\n",
        "conversion_rate = 1.39  # 1 GBP = 1.39 USD (as of current rate)\n",
        "\n",
        "# Calculate the equivalent amount in dollars\n",
        "dollars = pounds * conversion_rate\n",
        "\n",
        "# Print the result\n",
        "print(\"{:.2f}£ are {:.2f}$\".format(pounds, dollars))\n"
      ],
      "metadata": {
        "id": "KaQc2vH6ah35",
        "outputId": "c24b003f-d152-49b8-f4f9-c6e503f5b750",
        "colab": {
          "base_uri": "https://localhost:8080/"
        }
      },
      "execution_count": 16,
      "outputs": [
        {
          "output_type": "stream",
          "name": "stdout",
          "text": [
            "Please enter the amount in pounds (£): 100\n",
            "100.00£ are 139.00$\n"
          ]
        }
      ]
    }
  ]
}