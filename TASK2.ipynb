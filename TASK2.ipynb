{
  "nbformat": 4,
  "nbformat_minor": 0,
  "metadata": {
    "colab": {
      "provenance": [],
      "authorship_tag": "ABX9TyNheeZFGxTjt7UxN5q4ref0",
      "include_colab_link": true
    },
    "kernelspec": {
      "name": "python3",
      "display_name": "Python 3"
    },
    "language_info": {
      "name": "python"
    }
  },
  "cells": [
    {
      "cell_type": "markdown",
      "metadata": {
        "id": "view-in-github",
        "colab_type": "text"
      },
      "source": [
        "<a href=\"https://colab.research.google.com/github/AMAL1807/DSMLTASK/blob/main/TASK2.ipynb\" target=\"_parent\"><img src=\"https://colab.research.google.com/assets/colab-badge.svg\" alt=\"Open In Colab\"/></a>"
      ]
    },
    {
      "cell_type": "markdown",
      "source": [
        "Q1. Write a python program to sum all the items in a list"
      ],
      "metadata": {
        "id": "JHylMNEL9WZ9"
      }
    },
    {
      "cell_type": "code",
      "source": [
        "s=0\n",
        "list1=[1,2,3,4,5]\n",
        "for x in list1:\n",
        "    s=s+x\n",
        "print(s)"
      ],
      "metadata": {
        "colab": {
          "base_uri": "https://localhost:8080/"
        },
        "id": "DyTkoYPT8qLR",
        "outputId": "9b2a1c43-4b69-46bb-dc8c-a006fe415ba0"
      },
      "execution_count": null,
      "outputs": [
        {
          "output_type": "stream",
          "name": "stdout",
          "text": [
            "15\n"
          ]
        }
      ]
    },
    {
      "cell_type": "markdown",
      "source": [
        "Q2. Write a python program to get the largest number from a list"
      ],
      "metadata": {
        "id": "TF0NGUGB_BOX"
      }
    },
    {
      "cell_type": "code",
      "source": [
        "mylist = [30,50,9,87,67]\n",
        "print(\"largest number is:\", max(mylist))"
      ],
      "metadata": {
        "colab": {
          "base_uri": "https://localhost:8080/"
        },
        "id": "RPID-VWS_A12",
        "outputId": "fd59c0ca-c3ba-4135-d9a0-a7cb8bd3aa95"
      },
      "execution_count": null,
      "outputs": [
        {
          "output_type": "stream",
          "name": "stdout",
          "text": [
            "largest number is: 87\n"
          ]
        }
      ]
    },
    {
      "cell_type": "markdown",
      "source": [
        "Q3. Write a python program to count the number of strings from a given list of strings. The string length is 2 or more and the first and last characters are the same.\n",
        "Sample List : ['abc','xyz','aba','1221']"
      ],
      "metadata": {
        "id": "lG7LvsSXkI_L"
      }
    },
    {
      "cell_type": "code",
      "source": [
        "s = 0\n",
        "list = ['abc','xyz','aba','1221']\n",
        "for x in list :\n",
        "    if len(x)>1 and x[0] == x[-1] :\n",
        "        print(\"The given words are : \",x)\n",
        "        s=s+1\n",
        "print(\"no. of words you want: \",s)"
      ],
      "metadata": {
        "colab": {
          "base_uri": "https://localhost:8080/"
        },
        "id": "aH1_BsWolDg7",
        "outputId": "df036494-105f-40c3-af6d-bccf8d69d647"
      },
      "execution_count": null,
      "outputs": [
        {
          "output_type": "stream",
          "name": "stdout",
          "text": [
            "The given words are :  aba\n",
            "The given words are :  1221\n",
            "no. of words you want:  2\n"
          ]
        }
      ]
    },
    {
      "cell_type": "markdown",
      "source": [
        "Q4. Write a python program to remove duplicates from a list."
      ],
      "metadata": {
        "id": "1Z1ygqi6qy3F"
      }
    },
    {
      "cell_type": "code",
      "source": [
        "data = [10,20,30,40,40,50,60,10,20]\n",
        "dup_items = set()\n",
        "uniq_items = []\n",
        "for x in data :\n",
        "    if x not in dup_items :\n",
        "        uniq_items.append(x)\n",
        "        dup_items.add(x)\n",
        "print(dup_items)\n"
      ],
      "metadata": {
        "colab": {
          "base_uri": "https://localhost:8080/"
        },
        "id": "lanWxPa6rBNo",
        "outputId": "4596687d-dba4-4fb6-95bd-77638fd9a489"
      },
      "execution_count": null,
      "outputs": [
        {
          "output_type": "stream",
          "name": "stdout",
          "text": [
            "{40, 10, 50, 20, 60, 30}\n"
          ]
        }
      ]
    },
    {
      "cell_type": "markdown",
      "source": [
        "Q5. Write a python program to check if a list is empty or not"
      ],
      "metadata": {
        "id": "HSHfybe-xSL7"
      }
    },
    {
      "cell_type": "code",
      "source": [
        "l=[4,3,2]\n",
        "if not l:\n",
        "    print(\"list is empty\")\n",
        "else:\n",
        "    print(\"list is filled\")"
      ],
      "metadata": {
        "colab": {
          "base_uri": "https://localhost:8080/"
        },
        "id": "v-f1xYPkxmiV",
        "outputId": "c346a72f-2462-4da1-8042-bfafbbf67109"
      },
      "execution_count": null,
      "outputs": [
        {
          "output_type": "stream",
          "name": "stdout",
          "text": [
            "list is filled\n"
          ]
        }
      ]
    },
    {
      "cell_type": "markdown",
      "source": [
        "Q6. Write a python program to filter the list if the length of the character is < 4\n",
        "Sample List : ['abc','xyz','aba','1221']\n",
        "Expected Result : ['abc','xyz','aba']"
      ],
      "metadata": {
        "id": "fbn3HF8V6z8P"
      }
    },
    {
      "cell_type": "code",
      "source": [
        "mylist = ['abc','xyz','aba','1221']\n",
        "for x in mylist :\n",
        "    if len(x) < 4:\n",
        "        mylist.remove(x)\n",
        "\n",
        "print(mylist)"
      ],
      "metadata": {
        "colab": {
          "base_uri": "https://localhost:8080/"
        },
        "id": "DWxoCLoL7l-p",
        "outputId": "6f9064db-6326-409d-c5ef-ec50e44f984d"
      },
      "execution_count": null,
      "outputs": [
        {
          "output_type": "stream",
          "name": "stdout",
          "text": [
            "['xyz', '1221']\n"
          ]
        }
      ]
    },
    {
      "cell_type": "markdown",
      "source": [
        "Q7. Write a python program to find the second largest number in a list."
      ],
      "metadata": {
        "id": "hZseR_jmDTbm"
      }
    },
    {
      "cell_type": "code",
      "source": [
        "data = [66,90,87,65,72]\n",
        "data.sort()\n",
        "element = data[-2]\n",
        "print(\"second largest element is : \",element)"
      ],
      "metadata": {
        "colab": {
          "base_uri": "https://localhost:8080/"
        },
        "id": "Rz6nNyrdDlRA",
        "outputId": "0e5e1b10-4c44-4925-f0a3-9b8ae008ab8f"
      },
      "execution_count": null,
      "outputs": [
        {
          "output_type": "stream",
          "name": "stdout",
          "text": [
            "second largest element is :  87\n"
          ]
        }
      ]
    },
    {
      "cell_type": "markdown",
      "source": [
        "Q8. Write a python program to reverse a list at a specific location"
      ],
      "metadata": {
        "id": "_3DxoPKV3VqH"
      }
    },
    {
      "cell_type": "code",
      "source": [
        "l=[1,2,3,4,5]\n",
        "i=2\n",
        "\n",
        "t=l[i:]\n",
        "t.reverse()\n",
        "t\n",
        "l[:i]+t"
      ],
      "metadata": {
        "id": "7QlUuYr-Iha9",
        "colab": {
          "base_uri": "https://localhost:8080/"
        },
        "outputId": "6d63b5f9-7313-499b-fb57-146a24cee20d"
      },
      "execution_count": null,
      "outputs": [
        {
          "output_type": "execute_result",
          "data": {
            "text/plain": [
              "[1, 2, 5, 4, 3]"
            ]
          },
          "metadata": {},
          "execution_count": 6
        }
      ]
    },
    {
      "cell_type": "markdown",
      "source": [
        "Q9. Write a python program to check if a list is palindrome or not.return true otherwise false"
      ],
      "metadata": {
        "id": "v1hBfW7IIiQm"
      }
    },
    {
      "cell_type": "code",
      "source": [
        "s = [\"madam\",\"peep\",\"rotator\"]\n",
        "reverse = s[::-1]\n",
        "\n",
        "if( s == reverse ) :\n",
        "    print(\"true\")\n",
        "else:\n",
        "    print(\"false\")"
      ],
      "metadata": {
        "colab": {
          "base_uri": "https://localhost:8080/"
        },
        "id": "TwuKJiKGJB2L",
        "outputId": "cd8afa83-54cd-4932-ac58-044bd9ea1c0f"
      },
      "execution_count": null,
      "outputs": [
        {
          "output_type": "stream",
          "name": "stdout",
          "text": [
            "false\n"
          ]
        }
      ]
    },
    {
      "cell_type": "markdown",
      "source": [
        "Q10. Write a python program to find the union and intersection of two lists"
      ],
      "metadata": {
        "id": "pXkiBtcn2cme"
      }
    },
    {
      "cell_type": "code",
      "source": [
        "L1= [1,2,3,4,5]\n",
        "L2= [3,4,5,6,7]\n",
        "\n",
        "union = []\n",
        "intersection = []\n",
        "\n",
        "#union\n",
        "for i in L1 :\n",
        "    if i not in union :\n",
        "        union.append(i)\n",
        "for j in L2 :\n",
        "    if j not in union :\n",
        "        union.append(j)\n",
        "\n",
        "#intersection\n",
        "for i in L1:\n",
        "    if i in L2:\n",
        "        intersection.append(i)\n",
        "\n",
        "print('your union list:',union)\n",
        "print('your intersection list:',intersection)\n",
        "\n"
      ],
      "metadata": {
        "id": "DmFquetT2FDq",
        "colab": {
          "base_uri": "https://localhost:8080/"
        },
        "outputId": "b5b2b138-f4c0-4299-9929-595fc4aa4f06"
      },
      "execution_count": null,
      "outputs": [
        {
          "output_type": "stream",
          "name": "stdout",
          "text": [
            "your union list: [1, 2, 3, 4, 5, 6, 7]\n",
            "your intersection list: [3, 4, 5]\n"
          ]
        }
      ]
    },
    {
      "cell_type": "markdown",
      "source": [
        "Q11. Write a python script to sort (ascending and descending) a dictionary by value"
      ],
      "metadata": {
        "id": "RNjJSqNVYG1N"
      }
    },
    {
      "cell_type": "code",
      "source": [
        "def sort_dict_by_value(d, reverse=False):\n",
        "    sorted_dict = dict(sorted(d.items(), key=lambda item: item[1], reverse=reverse))\n",
        "    return sorted_dict\n",
        "\n",
        "# Example dictionary\n",
        "my_dict = {'snickers': 8, 'munch': 10, 'galaxy': 7, 'kitkat': 2}\n",
        "\n",
        "# Sorting in ascending order\n",
        "sorted_asc = sort_dict_by_value(my_dict)\n",
        "print(\"Ascending order:\", sorted_asc)\n",
        "\n",
        "# Sorting in descending order\n",
        "sorted_desc = sort_dict_by_value(my_dict, reverse=True)\n",
        "print(\"Descending order:\", sorted_desc)\n",
        "\n"
      ],
      "metadata": {
        "id": "zd9TBcgsZYlx",
        "colab": {
          "base_uri": "https://localhost:8080/"
        },
        "outputId": "27b29f42-d5b0-4eec-fa3c-e09130c34883"
      },
      "execution_count": null,
      "outputs": [
        {
          "output_type": "stream",
          "name": "stdout",
          "text": [
            "Ascending order: {'kitkat': 2, 'galaxy': 7, 'snickers': 8, 'munch': 10}\n",
            "Descending order: {'munch': 10, 'snickers': 8, 'galaxy': 7, 'kitkat': 2}\n"
          ]
        }
      ]
    },
    {
      "cell_type": "markdown",
      "source": [
        "Q12. Write a python script to check whether a given key already exists in a dictionary"
      ],
      "metadata": {
        "id": "JCApJfi0ZZsR"
      }
    },
    {
      "cell_type": "code",
      "source": [
        "d = {\"key1\": 10, \"key2\": 23}\n",
        "\n",
        "if \"key150\" in d:\n",
        "    print(\"key1 exists\")\n",
        "else:\n",
        "    print(\"key does not exist\")"
      ],
      "metadata": {
        "id": "3pGMb-bAaPXa",
        "colab": {
          "base_uri": "https://localhost:8080/"
        },
        "outputId": "8c14c82e-0163-46a6-bd35-02c10de2b62f"
      },
      "execution_count": null,
      "outputs": [
        {
          "output_type": "stream",
          "name": "stdout",
          "text": [
            "key does not exist\n"
          ]
        }
      ]
    },
    {
      "cell_type": "markdown",
      "source": [
        "Q13.Write a python program to sum all the values in a dictionary"
      ],
      "metadata": {
        "id": "yavtz--EaRS_"
      }
    },
    {
      "cell_type": "code",
      "source": [
        "n=int(input(\"Enter the total no of key-value pairs you want inside your dictionary: \"))\n",
        "d={}\n",
        "for i in range(n):\n",
        "    k=input(\"Enter the key : \")\n",
        "    v=int(input(\"enter the value : \"))\n",
        "    d.update({k:v})\n",
        "print(\"my dictionary\", d)\n",
        "result=sum(d.values())\n",
        "print(\"sum of values \",result)"
      ],
      "metadata": {
        "id": "Udb59L4Bafmj",
        "colab": {
          "base_uri": "https://localhost:8080/"
        },
        "outputId": "e52a43f5-57d1-4283-f9cd-b2aca24a53f5"
      },
      "execution_count": null,
      "outputs": [
        {
          "output_type": "stream",
          "name": "stdout",
          "text": [
            "Enter the total no of key-value pairs you want inside your dictionary: 5\n",
            "Enter the key : a\n",
            "enter the value : 1\n",
            "Enter the key : b\n",
            "enter the value : 2\n",
            "Enter the key : c\n",
            "enter the value : 3\n",
            "Enter the key : d\n",
            "enter the value : 4\n",
            "Enter the key : e\n",
            "enter the value : 5\n",
            "my dictionary {'a': 1, 'b': 2, 'c': 3, 'd': 4, 'e': 5}\n",
            "sum of values  15\n"
          ]
        }
      ]
    },
    {
      "cell_type": "markdown",
      "source": [
        "Q14. Write a python program to create a dictionary with a number and its corresponding square from 1 to input number.And also check if the input number is less than 10\n",
        "\n",
        "Eg:\n",
        "\n",
        "Input : 3\n",
        "\n",
        "Output : {1:1, 2:4, 3:9}"
      ],
      "metadata": {
        "id": "ZkH9A9YGagYd"
      }
    },
    {
      "cell_type": "code",
      "source": [
        "n = int(input('Enter a value: '))\n",
        "d ={i:i**2 for i in range(1,n+1)}\n",
        "print(d)\n",
        "\n",
        "if n < 10:\n",
        "    print(f\"Yes, the input number {n} is less than 10\")\n",
        "else:\n",
        "    print(f\"No, the input number {n} is greater than 10\")"
      ],
      "metadata": {
        "id": "oohGSqYWbtz2",
        "colab": {
          "base_uri": "https://localhost:8080/"
        },
        "outputId": "5cf4e5a7-1839-43b1-8e68-59a6edd282d2"
      },
      "execution_count": null,
      "outputs": [
        {
          "output_type": "stream",
          "name": "stdout",
          "text": [
            "Enter a value: 3\n",
            "{1: 1, 2: 4, 3: 9}\n",
            "Yes, the input number 3 is less than 10\n"
          ]
        }
      ]
    },
    {
      "cell_type": "markdown",
      "source": [
        "Q15.Write a python program to sort a given dictionary by key."
      ],
      "metadata": {
        "id": "nM9w7FUpbu1r"
      }
    },
    {
      "cell_type": "code",
      "source": [
        "d={\"raju\":78,\"chutki\":87,\"dholu\":90,\"bholu\":92}\n",
        "l=sorted(d.keys())\n",
        "s=list()\n",
        "for ele in l:\n",
        "    s.append(d[ele])\n",
        "d1=dict(zip(l,s))\n",
        "print(\"Sorted Dictionary\",d1)"
      ],
      "metadata": {
        "id": "cvyEjubMcFb1",
        "colab": {
          "base_uri": "https://localhost:8080/"
        },
        "outputId": "27876d3d-c046-4cb1-b278-7264dd44bbde"
      },
      "execution_count": null,
      "outputs": [
        {
          "output_type": "stream",
          "name": "stdout",
          "text": [
            "Sorted Dictionary {'bholu': 92, 'chutki': 87, 'dholu': 90, 'raju': 78}\n"
          ]
        }
      ]
    },
    {
      "cell_type": "markdown",
      "source": [
        "Q16. Write a python program to create a dictionary from a string.\n",
        "Note: Track the count of the letters from the string.\n",
        "\n",
        "Sample string : 'learnpython'\n",
        "\n",
        "Expected Output: {'l': 1,'e': 1,'a': 1,'r': 1,'n': 2,'p': 1,'y': 1,'t': 1,'h': 1, 'o':1}"
      ],
      "metadata": {
        "id": "Rky0aoLIcGJ3"
      }
    },
    {
      "cell_type": "code",
      "source": [
        "letter = input()\n",
        "dict = {}\n",
        "\n",
        "for x in letter:\n",
        "    keys = dict.keys()\n",
        "    if x in keys:\n",
        "        dict[x] += 1\n",
        "    else:\n",
        "        dict[x] =1\n",
        "\n",
        "print(dict)"
      ],
      "metadata": {
        "id": "pPn-iQyGcWRm",
        "colab": {
          "base_uri": "https://localhost:8080/"
        },
        "outputId": "d8c99baf-e511-486a-d9f5-8f2554f966ab"
      },
      "execution_count": null,
      "outputs": [
        {
          "output_type": "stream",
          "name": "stdout",
          "text": [
            "learnpython\n",
            "{'l': 1, 'e': 1, 'a': 1, 'r': 1, 'n': 2, 'p': 1, 'y': 1, 't': 1, 'h': 1, 'o': 1}\n"
          ]
        }
      ]
    },
    {
      "cell_type": "markdown",
      "source": [
        "Q17. Write a python program to get the top three items in a shop.\n",
        "\n",
        "Sample data: {'item1':45.50,'item2':35,'item3':41.30,'item4':55,'item5':24}\n",
        "\n",
        "Expected Output:\n",
        "\n",
        "item4 55\n",
        "\n",
        "item1 45.50\n",
        "\n",
        "item3 41.3\n"
      ],
      "metadata": {
        "id": "Gx-wXwh4enAi"
      }
    },
    {
      "cell_type": "code",
      "source": [
        "shop={\"item1\" : 45.50,\"item2\" : 35,\"item3\" : 41.30,\"item4\" : 55,\"item5\" : 24}\n",
        "\n",
        "sorted_items = sorted(shop.items(),key=lambda x:x[1],reverse=True)\n",
        "\n",
        "top_3_items = sorted_items[:3]\n",
        "\n",
        "print(dict(top_3_items))"
      ],
      "metadata": {
        "id": "Av58Id9_VV6t",
        "colab": {
          "base_uri": "https://localhost:8080/"
        },
        "outputId": "841e1d83-96d1-450c-9def-e0bd657ed55a"
      },
      "execution_count": 1,
      "outputs": [
        {
          "output_type": "stream",
          "name": "stdout",
          "text": [
            "{'item4': 55, 'item1': 45.5, 'item3': 41.3}\n"
          ]
        }
      ]
    }
  ]
}