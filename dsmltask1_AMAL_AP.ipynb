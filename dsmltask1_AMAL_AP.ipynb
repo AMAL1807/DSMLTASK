{
  "nbformat": 4,
  "nbformat_minor": 0,
  "metadata": {
    "colab": {
      "provenance": [],
      "authorship_tag": "ABX9TyO9978QPhHEok32sLK+IlDg",
      "include_colab_link": true
    },
    "kernelspec": {
      "name": "python3",
      "display_name": "Python 3"
    },
    "language_info": {
      "name": "python"
    }
  },
  "cells": [
    {
      "cell_type": "markdown",
      "metadata": {
        "id": "view-in-github",
        "colab_type": "text"
      },
      "source": [
        "<a href=\"https://colab.research.google.com/github/AMAL1807/dsml30amalap/blob/main/dsmltask1_AMAL_AP.ipynb\" target=\"_parent\"><img src=\"https://colab.research.google.com/assets/colab-badge.svg\" alt=\"Open In Colab\"/></a>"
      ]
    },
    {
      "cell_type": "markdown",
      "source": [
        "Write a python program to find those numbers which are divisible by 7 and multiples of 5,for user input."
      ],
      "metadata": {
        "id": "GrCdH5QoHCrx"
      }
    },
    {
      "cell_type": "code",
      "execution_count": null,
      "metadata": {
        "id": "JwrV1Zq9G_oD"
      },
      "outputs": [],
      "source": []
    },
    {
      "cell_type": "markdown",
      "source": [
        "write a python program to check the user input is even or odd or zero"
      ],
      "metadata": {
        "id": "Xsp4wOfyJcPO"
      }
    },
    {
      "cell_type": "code",
      "source": [
        "number=int(input(\"enter a number=\"))\n",
        "if number == 0 :\n",
        "    print(\"the number is zero\")\n",
        "\n",
        "elif number%2 ==0 :\n",
        "    print(\"the number is an even number\")\n",
        "\n",
        "else:\n",
        "    print(\"the number is an odd number\")\n"
      ],
      "metadata": {
        "colab": {
          "base_uri": "https://localhost:8080/"
        },
        "id": "RvtTm3TbJsJe",
        "outputId": "9bcc8cf2-037c-446f-bf66-fd17167a0ccf"
      },
      "execution_count": null,
      "outputs": [
        {
          "output_type": "stream",
          "name": "stdout",
          "text": [
            "enter a number=8\n",
            "the number is an even number\n"
          ]
        }
      ]
    },
    {
      "cell_type": "markdown",
      "source": [
        "print decimal part of an input number.if the decimal part is zero print the string : \"INTEGER\""
      ],
      "metadata": {
        "id": "i2XtduXeMi07"
      }
    },
    {
      "cell_type": "code",
      "source": [
        "a=(input(\"enter the decimal number:\"))\n",
        "l=a.split(\".\")\n",
        "if l[1]==0:\n",
        "    print(\"INTEGER\")\n",
        "\n",
        "else:\n",
        "    print(f\" the decimal part is {l[1]}\")"
      ],
      "metadata": {
        "colab": {
          "base_uri": "https://localhost:8080/"
        },
        "id": "QZyUfXR_N9PW",
        "outputId": "4366d249-7d8e-49f1-bbd3-42863bd7f0e1"
      },
      "execution_count": null,
      "outputs": [
        {
          "output_type": "stream",
          "name": "stdout",
          "text": [
            "enter the decimal number:25.72\n",
            " the decimal part is 72\n"
          ]
        }
      ]
    }
  ]
}