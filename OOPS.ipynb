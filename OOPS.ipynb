{
  "nbformat": 4,
  "nbformat_minor": 0,
  "metadata": {
    "colab": {
      "provenance": [],
      "authorship_tag": "ABX9TyPZhpfTTj1ic5gbshFqkHBG",
      "include_colab_link": true
    },
    "kernelspec": {
      "name": "python3",
      "display_name": "Python 3"
    },
    "language_info": {
      "name": "python"
    }
  },
  "cells": [
    {
      "cell_type": "markdown",
      "metadata": {
        "id": "view-in-github",
        "colab_type": "text"
      },
      "source": [
        "<a href=\"https://colab.research.google.com/github/AMAL1807/DSMLTASK/blob/main/OOPS.ipynb\" target=\"_parent\"><img src=\"https://colab.research.google.com/assets/colab-badge.svg\" alt=\"Open In Colab\"/></a>"
      ]
    },
    {
      "cell_type": "markdown",
      "source": [
        "1.  Write a Python program to create a class representing a Circle. Include methods to calculate its area and perimeter.\n",
        "\n"
      ],
      "metadata": {
        "id": "7czI5Nk9LFWi"
      }
    },
    {
      "cell_type": "code",
      "execution_count": null,
      "metadata": {
        "colab": {
          "base_uri": "https://localhost:8080/"
        },
        "id": "Wig5QGsNEYt3",
        "outputId": "0a5adbd3-d64f-4335-9b18-bbab789385f6"
      },
      "outputs": [
        {
          "output_type": "stream",
          "name": "stdout",
          "text": [
            "Enter the radius of the circle:5\n",
            "The area of the circle is: 78.53981633974483\n",
            "The perimeter of the circle is: 31.41592653589793\n"
          ]
        }
      ],
      "source": [
        "import math\n",
        "\n",
        "class Circle:\n",
        "    def __init__(self,radius):\n",
        "        self.radius = radius\n",
        "\n",
        "    def area(self):\n",
        "        return math.pi * (self.radius ** 2)\n",
        "\n",
        "    def perimeter(self):\n",
        "        return 2 * math.pi * self.radius\n",
        "\n",
        "# Example usage\n",
        "if __name__ == \"__main__\":\n",
        "    radius = float(input(\"Enter the radius of the circle:\"))\n",
        "    circle = Circle(radius)\n",
        "    print(f\"The area of the circle is: {circle.area()}\")\n",
        "    print(f\"The perimeter of the circle is: {circle.perimeter()}\")"
      ]
    },
    {
      "cell_type": "markdown",
      "source": [
        "2. Write a Python program to create a calculator class. Include methods for basic arithmetic operations.\n"
      ],
      "metadata": {
        "id": "PF0JYdJXLr9c"
      }
    },
    {
      "cell_type": "code",
      "source": [
        "class Calculator:\n",
        "    def add(self, a, b):\n",
        "        return a + b\n",
        "\n",
        "    def subtract(self, a, b):\n",
        "        return a - b\n",
        "\n",
        "    def multiply(self, a, b):\n",
        "        return a * b\n",
        "\n",
        "    def divide(self, a, b):\n",
        "        if b == 0:\n",
        "            return \"Error! Division by zero.\"\n",
        "        return a/b\n",
        "\n",
        "# Example usage\n",
        "if __name__ == \"__main__\":\n",
        "    calculator = Calculator()\n",
        "\n",
        "    num1 = float(input(\"Enter the first number: \"))\n",
        "    num2 = float(input(\"Enter the second number: \"))\n",
        "\n",
        "    print(f\"{num1} + {num2} = {calculator.add(num1, num2)}\")\n",
        "    print(f\"{num1} - {num2} = {calculator.subtract(num1, num2)}\")\n",
        "    print(f\"{num1} * {num2} = {calculator.multiply(num1, num2)}\")\n",
        "    print(f\"{num1} / {num2} = {calculator.divide(num1, num2)}\")"
      ],
      "metadata": {
        "colab": {
          "base_uri": "https://localhost:8080/"
        },
        "id": "frYGaioUNt9R",
        "outputId": "25082788-77d5-42d4-b51e-c01aed94d6d6"
      },
      "execution_count": null,
      "outputs": [
        {
          "output_type": "stream",
          "name": "stdout",
          "text": [
            "Enter the first number: 5\n",
            "Enter the second number: 2\n",
            "5.0 + 2.0 = 7.0\n",
            "5.0 - 2.0 = 3.0\n",
            "5.0 * 2.0 = 10.0\n",
            "5.0 / 2.0 = 2.5\n"
          ]
        }
      ]
    },
    {
      "cell_type": "markdown",
      "source": [
        "3. Write a Python program to create a class that represents a shape. Include methods to calculate its area and perimeter. Implement subclasses for different shapes like circle, triangle, and square.\n",
        "\n",
        "\n"
      ],
      "metadata": {
        "id": "aBmAqwCVTZW8"
      }
    },
    {
      "cell_type": "code",
      "source": [
        "import math\n",
        "\n",
        "class Shape:\n",
        "    def area(self):\n",
        "        pass\n",
        "\n",
        "    def perimeter(self):\n",
        "        pass\n",
        "\n",
        "class Circle(Shape):\n",
        "    def __init__(self, radius):\n",
        "        self.radius = radius\n",
        "\n",
        "    def area(self):\n",
        "        return math.pi * (self.radius ** 2)\n",
        "\n",
        "    def perimeter(self):\n",
        "        return 2 * math.pi * self.radius\n",
        "\n",
        "class Triangle(Shape):\n",
        "    def __init__(self, a, b, c):\n",
        "        self.a = a\n",
        "        self.b = b\n",
        "        self.c = c\n",
        "\n",
        "    def area(self):\n",
        "        s = (self.a + self.b + self.c) / 2\n",
        "        return math.sqrt(s * (s - self.a) * (s - self.b) * (s - self.c))\n",
        "\n",
        "    def perimeter(self):\n",
        "        return self.a + self.b + self.c\n",
        "\n",
        "class Square:\n",
        "    def __init__(self, side):\n",
        "        self.side = side\n",
        "\n",
        "    def area(self):\n",
        "        return self.side ** 2\n",
        "\n",
        "    def perimeter(self):\n",
        "        return 4 * self.side\n",
        "\n",
        "# Example usage\n",
        "if __name__ == \"__main__\":\n",
        "    circle = Circle(radius=6)\n",
        "    print(f\"Circle: area = {circle.area()}, perimeter = {circle.perimeter()}\")\n",
        "\n",
        "    triangle = Triangle(a=4, b=6, c=8)\n",
        "    print(f\"Triangle: area = {triangle.area()}, perimeter = {triangle.perimeter()}\")\n",
        "\n",
        "    square = Square(side=7)\n",
        "    print(f\"Square: area = {square.area()}, perimeter = {square.perimeter()}\")\n",
        "\n",
        "\n"
      ],
      "metadata": {
        "id": "7jWMmhy2TbKh",
        "colab": {
          "base_uri": "https://localhost:8080/"
        },
        "outputId": "fb6e19c3-42cf-48f9-ee71-57cdd832c927"
      },
      "execution_count": 8,
      "outputs": [
        {
          "output_type": "stream",
          "name": "stdout",
          "text": [
            "Circle: area = 113.09733552923255, perimeter = 37.69911184307752\n",
            "Triangle: area = 11.61895003862225, perimeter = 18\n",
            "Square: area = 49, perimeter = 28\n"
          ]
        }
      ]
    }
  ]
}