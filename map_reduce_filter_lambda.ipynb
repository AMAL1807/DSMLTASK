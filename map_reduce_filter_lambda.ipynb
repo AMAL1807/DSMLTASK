{
  "nbformat": 4,
  "nbformat_minor": 0,
  "metadata": {
    "colab": {
      "provenance": [],
      "authorship_tag": "ABX9TyNekZy/E4DBbQ9o/MtgifT1",
      "include_colab_link": true
    },
    "kernelspec": {
      "name": "python3",
      "display_name": "Python 3"
    },
    "language_info": {
      "name": "python"
    }
  },
  "cells": [
    {
      "cell_type": "markdown",
      "metadata": {
        "id": "view-in-github",
        "colab_type": "text"
      },
      "source": [
        "<a href=\"https://colab.research.google.com/github/AMAL1807/DSMLTASK/blob/main/map_reduce_filter_lambda.ipynb\" target=\"_parent\"><img src=\"https://colab.research.google.com/assets/colab-badge.svg\" alt=\"Open In Colab\"/></a>"
      ]
    },
    {
      "cell_type": "markdown",
      "source": [
        "Exercise 1: Create a function with a default argument\n",
        "\n",
        "Write a program to create a function show_employee() using the following conditions\n",
        "\n",
        "\n",
        "        *   it should accept the employee's name and salary and display both.\n",
        "        *   if the salary is missing in the function call then assign default value 9000 to salary\n",
        "\n",
        "**Given:**\n",
        "showEmployee(\"Ben\",12000)\n",
        "showEmployee(\"Jessa\")\n",
        "\n",
        "**Expected output:**\n",
        "\n",
        "Name: Ben salary: 12000\n",
        "Name: Jessa salary: 9000\n",
        "\n",
        "\n",
        "\n"
      ],
      "metadata": {
        "id": "8EL2GSwxAGVh"
      }
    },
    {
      "cell_type": "code",
      "source": [
        "def show_employee(name, salary=9000):\n",
        "    print(\"Name:\", name, \"Salary:\", salary)\n",
        "\n",
        "# Test cases\n",
        "show_employee(\"Ben\", 12000)\n",
        "show_employee(\"Jessa\")"
      ],
      "metadata": {
        "colab": {
          "base_uri": "https://localhost:8080/"
        },
        "id": "5iGVOMDcILm_",
        "outputId": "357fe5c1-b4c4-4b1f-ee76-e70d3aef3e05"
      },
      "execution_count": null,
      "outputs": [
        {
          "output_type": "stream",
          "name": "stdout",
          "text": [
            "Name: Ben Salary: 12000\n",
            "Name: Jessa Salary: 9000\n"
          ]
        }
      ]
    },
    {
      "cell_type": "markdown",
      "source": [
        "Exercise 2: Create an inner function to calculate the addition in the following way\n",
        "\n",
        "\n",
        "*   Create an outer function that will accept two parameters, a and b\n",
        "*   Create an inner function inside an outer function that will calculate the addition of a and b\n",
        "*   At last, an outer function will add 5 into addition and return it\n",
        "\n",
        "\n",
        "\n",
        "\n",
        "\n",
        "\n",
        "\n",
        "\n",
        "\n"
      ],
      "metadata": {
        "id": "xDNIUTC5JRCx"
      }
    },
    {
      "cell_type": "code",
      "source": [
        "def outer_function(a, b):\n",
        "    def inner_function():\n",
        "        return a + b\n",
        "\n",
        "    addition = inner_function() + 5\n",
        "    return addition\n",
        "\n",
        "result = outer_function(2,3)\n",
        "print(\"Result:\", result)"
      ],
      "metadata": {
        "colab": {
          "base_uri": "https://localhost:8080/"
        },
        "id": "XunU8nHdJWxG",
        "outputId": "2e46b9ae-a393-4e55-d8b5-047514149322"
      },
      "execution_count": null,
      "outputs": [
        {
          "output_type": "stream",
          "name": "stdout",
          "text": [
            "Result: 10\n"
          ]
        }
      ]
    },
    {
      "cell_type": "markdown",
      "source": [
        "Exercise 3: Generate a Python list of all the even numbers between 4 to 30\n"
      ],
      "metadata": {
        "id": "8ROzDKCzMzpT"
      }
    },
    {
      "cell_type": "code",
      "source": [
        "even_numbers = [num for num in range(4, 31) if num % 2 == 0]\n",
        "print(even_numbers)"
      ],
      "metadata": {
        "colab": {
          "base_uri": "https://localhost:8080/"
        },
        "id": "u-92n5zXM1Ux",
        "outputId": "789db407-5f72-4923-d3b1-4d2bccc7fbdb"
      },
      "execution_count": null,
      "outputs": [
        {
          "output_type": "stream",
          "name": "stdout",
          "text": [
            "[4, 6, 8, 10, 12, 14, 16, 18, 20, 22, 24, 26, 28, 30]\n"
          ]
        }
      ]
    },
    {
      "cell_type": "markdown",
      "source": [
        "Exercise 4: Lambda Function to Check if value is in a List\n",
        "Given a list, the task is to write a Python program to check if the value exists in the list or not using the lambda function.\n",
        "\n",
        "\n",
        "Input  : L = [1, 2, 3, 4, 5]\n",
        "          element = 4\n",
        "Output :  Element is Present in the list\n",
        "\n",
        "Input :  L = [1, 2, 3, 4, 5]\n",
        "          element = 8\n",
        "Output :  Element is NOT Present in the list\n",
        "\n",
        "\n"
      ],
      "metadata": {
        "id": "rSannOpPNtnG"
      }
    },
    {
      "cell_type": "code",
      "source": [
        "L = [1, 2, 3, 4, 5]\n",
        "element = 4\n",
        "\n",
        "# using lambda function and filter\n",
        "is_present = bool(list(filter(lambda x: x == element, L)))\n",
        "\n",
        "if is_present:\n",
        "    print(\"Element is present in the list\")\n",
        "else:\n",
        "    print(\"Element is not present in the list\")"
      ],
      "metadata": {
        "colab": {
          "base_uri": "https://localhost:8080/"
        },
        "id": "nQFrN0XFNwP0",
        "outputId": "64638955-94c5-47ae-a378-157f8aad737f"
      },
      "execution_count": null,
      "outputs": [
        {
          "output_type": "stream",
          "name": "stdout",
          "text": [
            "Element is present in the list\n"
          ]
        }
      ]
    },
    {
      "cell_type": "markdown",
      "source": [
        "Exercise 5: Sort list of tuples with their sum\n",
        "Sort the points based on their sum of elements in the tuples\n",
        "\n",
        "points = [(1, 2), (5, 3), (0, 7), (3, 1)]\n"
      ],
      "metadata": {
        "id": "Zni9OHDCP7mG"
      }
    },
    {
      "cell_type": "code",
      "source": [
        "points = [(1,2), (5,3), (0,7), (3,1)]\n",
        "\n",
        "sorted_points = sorted(points, key=lambda x: sum(x))\n",
        "\n",
        "print(\"Sorted points:\", sorted_points)"
      ],
      "metadata": {
        "colab": {
          "base_uri": "https://localhost:8080/"
        },
        "id": "Whnqc-UjQsOT",
        "outputId": "5211d95f-1d34-4ee3-87d2-3ee627adb9d1"
      },
      "execution_count": null,
      "outputs": [
        {
          "output_type": "stream",
          "name": "stdout",
          "text": [
            "Sorted points: [(1, 2), (3, 1), (0, 7), (5, 3)]\n"
          ]
        }
      ]
    },
    {
      "cell_type": "markdown",
      "source": [
        "Exercise 6 :\n",
        "Write a python function, which will find all such numbers between 1000 and 3000 (both included) such that each digit of the number is an even number. Return the results as a list\n",
        "\n"
      ],
      "metadata": {
        "id": "Mqz1ouL1nOYo"
      }
    },
    {
      "cell_type": "code",
      "source": [
        "def find_even_digit_numbers():\n",
        "    #initialize an empty list to store the result\n",
        "    result = []\n",
        "\n",
        "    # Iterate through numbers from 1000 to 3000\n",
        "    for num in range(1000, 3001):\n",
        "        # Convert the number to a string for easy iteration through its digits\n",
        "        num_str = str(num)\n",
        "        # Assume the number satisfies the condition until proven otherwise\n",
        "        satisfies_condition = True\n",
        "\n",
        "        # Check each digit of the number\n",
        "        for digit in num_str:\n",
        "            # convert the digit back to an integer\n",
        "            digit_int = int(digit)\n",
        "            # If any digit is odd, set the flag to false and break out of the loop\n",
        "            if digit_int % 2 != 0:\n",
        "                satisfies_condition = False\n",
        "                break\n",
        "\n",
        "        # If the number satisfies the condition, add it to the result list\n",
        "        if satisfies_condition:\n",
        "            result.append(num)\n",
        "\n",
        "    # Return the list of numbers satisfying the condition\n",
        "    return result\n",
        "\n",
        "# Test the function\n",
        "print(find_even_digit_numbers())"
      ],
      "metadata": {
        "colab": {
          "base_uri": "https://localhost:8080/"
        },
        "id": "RFLScu2BnQSh",
        "outputId": "7e66bbfb-6745-4182-e0d2-1cab76d86db9"
      },
      "execution_count": null,
      "outputs": [
        {
          "output_type": "stream",
          "name": "stdout",
          "text": [
            "[2000, 2002, 2004, 2006, 2008, 2020, 2022, 2024, 2026, 2028, 2040, 2042, 2044, 2046, 2048, 2060, 2062, 2064, 2066, 2068, 2080, 2082, 2084, 2086, 2088, 2200, 2202, 2204, 2206, 2208, 2220, 2222, 2224, 2226, 2228, 2240, 2242, 2244, 2246, 2248, 2260, 2262, 2264, 2266, 2268, 2280, 2282, 2284, 2286, 2288, 2400, 2402, 2404, 2406, 2408, 2420, 2422, 2424, 2426, 2428, 2440, 2442, 2444, 2446, 2448, 2460, 2462, 2464, 2466, 2468, 2480, 2482, 2484, 2486, 2488, 2600, 2602, 2604, 2606, 2608, 2620, 2622, 2624, 2626, 2628, 2640, 2642, 2644, 2646, 2648, 2660, 2662, 2664, 2666, 2668, 2680, 2682, 2684, 2686, 2688, 2800, 2802, 2804, 2806, 2808, 2820, 2822, 2824, 2826, 2828, 2840, 2842, 2844, 2846, 2848, 2860, 2862, 2864, 2866, 2868, 2880, 2882, 2884, 2886, 2888]\n"
          ]
        }
      ]
    },
    {
      "cell_type": "markdown",
      "source": [
        "Exercise 7 :\n",
        "Write a python function that accepts a sentence and calculate and return the number of letters and digits.\n",
        "Suppose the following input is supplied to the program:\n",
        "hello world! 123\n",
        "Then, the output should be:\n",
        "LETTERS 10\n",
        "DIGITS 3\n"
      ],
      "metadata": {
        "id": "EVfSTGaPwsom"
      }
    },
    {
      "cell_type": "code",
      "source": [
        "def count_letters_digits(sentence):\n",
        "    letter_count = 0\n",
        "    digit_count = 0\n",
        "\n",
        "    # Iterate through each character in the sentence:\n",
        "    for char in sentence:\n",
        "        # check if the character is a letter\n",
        "        if char.isalpha():\n",
        "            letter_count += 1\n",
        "        # check if the character is a digit\n",
        "        elif char.isdigit():\n",
        "            digit_count += 1\n",
        "\n",
        "    # Return the counts of letters and digits\n",
        "    return letter_count, digit_count\n",
        "\n",
        "# Test the function with the given input\n",
        "input_sentence = \"hello world! 123\"\n",
        "letters, digits = count_letters_digits(input_sentence)\n",
        "print(\"LETTERS\", letters)\n",
        "print(\"DIGITS\", digits)"
      ],
      "metadata": {
        "id": "omhkR1slwunk",
        "colab": {
          "base_uri": "https://localhost:8080/"
        },
        "outputId": "4a6ea8c0-c45c-4876-ff4c-3c193b33dd34"
      },
      "execution_count": null,
      "outputs": [
        {
          "output_type": "stream",
          "name": "stdout",
          "text": [
            "LETTERS 10\n",
            "DIGITS 3\n"
          ]
        }
      ]
    },
    {
      "cell_type": "markdown",
      "source": [
        "Exercise 8  MAP:\n",
        "Write a Python program to convert all the characters into uppercase and lowercase and eliminate duplicate letters from a given sequence. Use the map() function\n"
      ],
      "metadata": {
        "id": "LeXETigibLmI"
      }
    },
    {
      "cell_type": "code",
      "source": [
        "def process_sequence(sequence):\n",
        "    # Convert all characters to uppercase and lowercase using map() function\n",
        "    upper_case =list(map(lambda char: char.upper(), sequence))\n",
        "    lower_case =list(map(lambda char: char.lower(), sequence))\n",
        "\n",
        "    # Eliminate duplicate letters\n",
        "    unique_characters = set(sequence)\n",
        "\n",
        "    return upper_case, lower_case, unique_characters\n",
        "\n",
        "# Test the function\n",
        "sequence = \"Hello World\"\n",
        "upper_case, lower_case, unique_characters = process_sequence(sequence)\n",
        "print(\"Uppercase:\", upper_case)\n",
        "print(\"Lowercase:\", lower_case)\n",
        "print(\"Unique Characters:\", unique_characters)"
      ],
      "metadata": {
        "colab": {
          "base_uri": "https://localhost:8080/"
        },
        "id": "xNY1gAT3g-ZJ",
        "outputId": "30f6c809-4e31-40f3-8fb6-cb5866a087b4"
      },
      "execution_count": null,
      "outputs": [
        {
          "output_type": "stream",
          "name": "stdout",
          "text": [
            "Uppercase: ['H', 'E', 'L', 'L', 'O', ' ', 'W', 'O', 'R', 'L', 'D']\n",
            "Lowercase: ['h', 'e', 'l', 'l', 'o', ' ', 'w', 'o', 'r', 'l', 'd']\n",
            "Unique Characters: {'o', 'r', 'e', 'd', 'l', ' ', 'W', 'H'}\n"
          ]
        }
      ]
    },
    {
      "cell_type": "markdown",
      "source": [
        "Exercise 9 MAP:\n",
        " Write a Python program to element wise add two given lists and find the difference between them. Use the map() function\n"
      ],
      "metadata": {
        "id": "HxngmDZwk_-4"
      }
    },
    {
      "cell_type": "code",
      "source": [
        "def add_lists(list1, list2):\n",
        "    # Element wise addition using map() function\n",
        "    sum_result = list(map(lambda x, y: x+y, list1, list2))\n",
        "\n",
        "    # Element-wise difference\n",
        "    difference_result = list(map(lambda x,y: x-y, list1, list2))\n",
        "\n",
        "    return sum_result, difference_result\n",
        "\n",
        "# Test the function\n",
        "list1 = [1, 2, 3, 4, 5]\n",
        "list2 = [6, 7, 8, 9, 10]\n",
        "\n",
        "sum_result, difference_result = add_lists(list1, list2)\n",
        "print(\"Element wise sum:\", sum_result)\n",
        "print(\"Element wise difference:\", difference_result)\n"
      ],
      "metadata": {
        "colab": {
          "base_uri": "https://localhost:8080/"
        },
        "id": "PwpSHVe2BaXv",
        "outputId": "e02f7636-b9d2-4cd6-b833-e1d0c1ee878b"
      },
      "execution_count": null,
      "outputs": [
        {
          "output_type": "stream",
          "name": "stdout",
          "text": [
            "Element wise sum: [7, 9, 11, 13, 15]\n",
            "Element wise difference: [-5, -5, -5, -5, -5]\n"
          ]
        }
      ]
    },
    {
      "cell_type": "markdown",
      "source": [
        "Exercise 10 Filter:\n",
        "Write a Python program to filter the height and weight of students, which are stored in a dictionary using lambda.\n",
        "Original Dictionary:\n",
        "{'Cierra Vega': (6.2, 71), 'Alden Cantrell': (5.9, 65), 'Kierra Gentry': (6.0, 68), 'Pierre Cox': (5.8, 66)}\n",
        "Height> 6ft and Weight> 70kg:\n",
        "{'Cierra Vega': (6.2, 71)}\n"
      ],
      "metadata": {
        "id": "lAokAaRXE2Uj"
      }
    },
    {
      "cell_type": "code",
      "source": [
        "# Original dictionary\n",
        "students = {\n",
        "    'Cierra vega': (6.2, 71),\n",
        "    'Alden Cantrell': (5.9, 65),\n",
        "    'Kierra Gentry': (6.0, 68),\n",
        "    'Pierre Cox' : (5.8, 66)\n",
        "}\n",
        "# Filter students based on height > 6ft and weight > 70kg\n",
        "filtered_students = dict(filter(lambda item: item[1][0] > 6.0 and item[1][1] > 70,students.items()))\n",
        "\n",
        "# print the filtered result\n",
        "print(\"Height > 6ft and weight > 70kg:\")\n",
        "print(filtered_students)\n"
      ],
      "metadata": {
        "id": "xxkCknN2nY-c",
        "colab": {
          "base_uri": "https://localhost:8080/"
        },
        "outputId": "2cf07e85-cb83-46cd-be74-b362327ca4ff"
      },
      "execution_count": null,
      "outputs": [
        {
          "output_type": "stream",
          "name": "stdout",
          "text": [
            "Height > 6ft and weight > 70kg:\n",
            "{'Cierra vega': (6.2, 71)}\n"
          ]
        }
      ]
    },
    {
      "cell_type": "markdown",
      "source": [
        "Exercise 11 Filter:\n",
        "Write a Python program to remove all elements from a given list present in another list using lambda.\n",
        "Original lists:\n",
        "list1: [1, 2, 3, 4, 5, 6, 7, 8, 9, 10]\n",
        "list2: [2, 4, 6, 8]\n",
        "Remove all elements from 'list1' present in 'list2:\n",
        "[1, 3, 5, 7, 9, 10]\n"
      ],
      "metadata": {
        "id": "1mBTvH7b-jV6"
      }
    },
    {
      "cell_type": "code",
      "source": [
        "list1 = [1,2,3,4,5,6,7,8,9,10]\n",
        "list2 = [2,4,6,8]\n",
        "\n",
        "# Remove elements from list1 present in list2\n",
        "result = list(filter(lambda x: x not in list2,list1))\n",
        "\n",
        "print(\"original list:\")\n",
        "print(\"list1:\",list1)\n",
        "print(\"list2:\",list2)\n",
        "print(\"Remove all elements from 'list1' present in 'list2:\")\n",
        "print(result)"
      ],
      "metadata": {
        "id": "f41cMzjY-oKj",
        "colab": {
          "base_uri": "https://localhost:8080/"
        },
        "outputId": "037e44b6-92b7-4bbd-8564-3fe5b65b47e4"
      },
      "execution_count": null,
      "outputs": [
        {
          "output_type": "stream",
          "name": "stdout",
          "text": [
            "original list:\n",
            "list1: [1, 2, 3, 4, 5, 6, 7, 8, 9, 10]\n",
            "list2: [2, 4, 6, 8]\n",
            "Remove all elements from 'list1' present in 'list2:\n",
            "[1, 3, 5, 7, 9, 10]\n"
          ]
        }
      ]
    },
    {
      "cell_type": "markdown",
      "source": [
        "Exercise 12 Reduce:\n",
        "\n",
        "\n",
        "Write a Python program to calculate the product of a given list of numbers using lambda.\n",
        "list1: [1, 2, 3, 4, 5, 6, 7, 8, 9, 10]\n",
        "Product of the said list numbers:\n",
        "3628800\n"
      ],
      "metadata": {
        "id": "lHqpRDNjb3Ke"
      }
    },
    {
      "cell_type": "code",
      "source": [
        "from functools import reduce\n",
        "\n",
        "list1 = [1,2,3,4,5,6,7,8,9,10]\n",
        "\n",
        "# calculate the product of the list numbers\n",
        "product = reduce(lambda x, y: x * y, list1)\n",
        "\n",
        "print(\"product of the list numbers:\",product)"
      ],
      "metadata": {
        "colab": {
          "base_uri": "https://localhost:8080/"
        },
        "id": "3iGHpPYEb57j",
        "outputId": "3d67971b-71e1-4b7b-9a1d-13fd2e8b8951"
      },
      "execution_count": null,
      "outputs": [
        {
          "output_type": "stream",
          "name": "stdout",
          "text": [
            "product of the list numbers: 3628800\n"
          ]
        }
      ]
    },
    {
      "cell_type": "markdown",
      "source": [
        "Exercise 13 Reduce:\n",
        "\n",
        "\n",
        " Write a Python program to multiply all the numbers in a given list using lambda.\n",
        "Original list:\n",
        "[4, 3, 2, 2, -1, 18]\n",
        "Mmultiply all the numbers of the said list: -864\n"
      ],
      "metadata": {
        "id": "2oiCqBlld0qi"
      }
    },
    {
      "cell_type": "code",
      "source": [
        "from functools import reduce\n",
        "\n",
        "original_list = [4,3,2,2,-1,18]\n",
        "\n",
        "# multiplying all the numbers of the list\n",
        "multiplication = reduce(lambda x, y: x * y, original_list)\n",
        "\n",
        "print(\"multiplication of the numbers of the original list:\",multiplication)\n"
      ],
      "metadata": {
        "colab": {
          "base_uri": "https://localhost:8080/"
        },
        "id": "Zg2gid6iexYe",
        "outputId": "4c96b656-7052-4303-afbf-082cfa33783b"
      },
      "execution_count": null,
      "outputs": [
        {
          "output_type": "stream",
          "name": "stdout",
          "text": [
            "multiplication of the numbers of the original list: -864\n"
          ]
        }
      ]
    },
    {
      "cell_type": "markdown",
      "source": [
        "Exercise 14 Reduce:\n",
        "\n",
        "\n",
        "Write a Python program to calculate the average value of the numbers in a given tuple of tuples using lambda.\n",
        "Original Tuple:\n",
        "((10, 10, 10), (30, 45, 56), (81, 80, 39), (1, 2, 3))\n",
        "Average value of the numbers of the said tuple of tuples:\n",
        "(30.5, 34.25, 27.0)\n",
        "\n",
        "\n"
      ],
      "metadata": {
        "id": "bvCSJvNlFgYa"
      }
    },
    {
      "cell_type": "code",
      "source": [
        "from functools import reduce\n",
        "\n",
        "# original tuple of tuples\n",
        "tuples = ((10, 10, 10), (30,45,56),(81,80,39),(1,2,3))\n",
        "\n",
        "# unzip the tuple of tuples to seperate columns\n",
        "unzipped = list(zip(*tuples))\n",
        "\n",
        "# Calculate the average for each column using reduce\n",
        "averages = tuple(map(lambda x: reduce(lambda a, b: a + b, x) / len(x), unzipped))\n",
        "\n",
        "print(\"original tuple:\")\n",
        "print(tuples)\n",
        "print(\"Average value of the numbers of the said tuple of tuples:\")\n",
        "print(averages)"
      ],
      "metadata": {
        "id": "cVX4uvU1Fg8S",
        "colab": {
          "base_uri": "https://localhost:8080/"
        },
        "outputId": "81382cc4-a697-430a-e890-680c90fe444c"
      },
      "execution_count": null,
      "outputs": [
        {
          "output_type": "stream",
          "name": "stdout",
          "text": [
            "original tuple:\n",
            "((10, 10, 10), (30, 45, 56), (81, 80, 39), (1, 2, 3))\n",
            "Average value of the numbers of the said tuple of tuples:\n",
            "(30.5, 34.25, 27.0)\n"
          ]
        }
      ]
    },
    {
      "cell_type": "markdown",
      "source": [
        "Exercise 15:\n",
        "\n",
        "\n",
        "Write a Python program to sort a given mixed list of integers and strings using lambda. Numbers must be sorted before strings.\n",
        "Original list:\n",
        "[19, 'red', 12, 'green', 'blue', 10, 'white', 'green', 1]\n",
        "Sort the said mixed list of integers and strings:\n",
        "[1, 10, 12, 19, 'blue', 'green', 'green', 'red', 'white']\n"
      ],
      "metadata": {
        "id": "4HJTFfvxF4eJ"
      }
    },
    {
      "cell_type": "code",
      "source": [
        "# original list\n",
        "mixed_list = [19,'red',12,'green','blue',10,'white','green',1]\n",
        "\n",
        "# sort the mixed list using a lambda function as the key\n",
        "sorted_list = sorted(mixed_list, key=lambda x: (isinstance(x, str), x))\n",
        "\n",
        "print(\"original list:\")\n",
        "print(mixed_list)\n",
        "print(\"Sort the said mixed list of integers and strings:\")\n",
        "print(sorted_list)\n"
      ],
      "metadata": {
        "id": "YbOhGF7jHUqq",
        "colab": {
          "base_uri": "https://localhost:8080/"
        },
        "outputId": "c6e8ae31-fe04-47a8-faff-80049ea2a415"
      },
      "execution_count": null,
      "outputs": [
        {
          "output_type": "stream",
          "name": "stdout",
          "text": [
            "original list:\n",
            "[19, 'red', 12, 'green', 'blue', 10, 'white', 'green', 1]\n",
            "Sort the said mixed list of integers and strings:\n",
            "[1, 10, 12, 19, 'blue', 'green', 'green', 'red', 'white']\n"
          ]
        }
      ]
    },
    {
      "cell_type": "markdown",
      "source": [
        "Exercise 16:\n",
        "Write a Python program to count the occurrences of items in a given list using lambda.\n",
        "Original list:\n",
        "[3, 4, 5, 8, 0, 3, 8, 5, 0, 3, 1, 5, 2, 3, 4, 2]\n",
        "Count the occurrences of the items in the said list:\n",
        "{3: 4, 4: 2, 5: 3, 8: 2, 0: 2, 1: 1, 2: 2}\n"
      ],
      "metadata": {
        "id": "cWM1r5_ZHqge"
      }
    },
    {
      "cell_type": "code",
      "source": [
        "from functools import reduce\n",
        "\n",
        "# Original list\n",
        "original_list = [3, 4, 5, 8, 0, 3, 8, 5, 0, 3, 1, 5, 2, 3, 4, 2]\n",
        "from functools import reduce\n",
        "\n",
        "# Use reduce to count occurences\n",
        "counts = reduce(lambda acc, x: acc.update({x: acc.get(x, 0) + 1}) or acc, original_list, {})\n",
        "\n",
        "print(\"original list:\")\n",
        "print(original_list)\n",
        "print(\"count the occurences of items in the list:\")\n",
        "print(counts)"
      ],
      "metadata": {
        "colab": {
          "base_uri": "https://localhost:8080/"
        },
        "id": "gkklnu6r1JUa",
        "outputId": "c6c53b42-bcb0-409f-eb7e-8202798d1c7b"
      },
      "execution_count": 9,
      "outputs": [
        {
          "output_type": "stream",
          "name": "stdout",
          "text": [
            "original list:\n",
            "[3, 4, 5, 8, 0, 3, 8, 5, 0, 3, 1, 5, 2, 3, 4, 2]\n",
            "count the occurences of items in the list:\n",
            "{3: 4, 4: 2, 5: 3, 8: 2, 0: 2, 1: 1, 2: 2}\n"
          ]
        }
      ]
    },
    {
      "cell_type": "markdown",
      "source": [
        "\n",
        "\n",
        "\n",
        "\n",
        "\n",
        "\n",
        "\n",
        "\n",
        "\n",
        "\n",
        "\n",
        "\n",
        "\n",
        "\n",
        "\n",
        "\n",
        "\n",
        "\n",
        "\n",
        "\n",
        "\n",
        "\n",
        "\n",
        "\n",
        "\n",
        "\n",
        "\n",
        "\n",
        "\n",
        "\n",
        "\n",
        "\n",
        "\n",
        "\n",
        "\n",
        "\n",
        "\n",
        "\n",
        "\n",
        "\n",
        "\n",
        "\n",
        "\n",
        "\n",
        "\n",
        "\n",
        "\n",
        "\n",
        "\n",
        "\n",
        "\n",
        "\n",
        "\n",
        "\n",
        "\n",
        "\n",
        "\n",
        "\n",
        "\n",
        "\n",
        "\n",
        "\n",
        "\n",
        "\n",
        "\n",
        "\n",
        "\n",
        "\n",
        "\n",
        "\n",
        "\n",
        "\n",
        "\n",
        "\n",
        "\n",
        "\n",
        "\n",
        "\n",
        "\n",
        "\n",
        "\n",
        "\n",
        "\n",
        "\n",
        "\n",
        "\n",
        "\n",
        "\n",
        "\n",
        "\n",
        "\n",
        "\n",
        "\n",
        "\n",
        "\n",
        "\n",
        "\n",
        "\n",
        "\n",
        "\n",
        "\n",
        "\n",
        "\n",
        "\n",
        "\n",
        "\n",
        "\n",
        "\n",
        "\n",
        "\n",
        "\n",
        "\n",
        "\n",
        "\n",
        "\n",
        "\n",
        "\n",
        "\n",
        "\n",
        "\n",
        "\n",
        "\n",
        "\n",
        "\n",
        "\n",
        "\n",
        "\n",
        "\n",
        "\n",
        "\n",
        "\n",
        "\n",
        "\n",
        "\n",
        "\n",
        "\n",
        "\n",
        "\n",
        "\n",
        "\n",
        "\n",
        "\n",
        "\n",
        "\n",
        "\n",
        "\n",
        "\n",
        "\n",
        "\n",
        "\n",
        "\n",
        "\n",
        "\n",
        "\n",
        "\n",
        "\n",
        "\n",
        "\n",
        "\n",
        "\n",
        "\n",
        "\n",
        "\n",
        "\n",
        "\n",
        "\n",
        "\n",
        "\n",
        "\n",
        "\n",
        "\n",
        "\n",
        "\n",
        "\n",
        "\n",
        "\n",
        "\n",
        "\n",
        "\n",
        "\n",
        "\n",
        "\n",
        "\n",
        "\n",
        "\n",
        "\n",
        "\n",
        "\n",
        "\n",
        "\n",
        "\n",
        "\n",
        "\n",
        "\n",
        "\n",
        "\n",
        "\n",
        "\n",
        "\n",
        "\n",
        "\n",
        "\n",
        "\n",
        "\n",
        "\n",
        "\n",
        "\n",
        "\n",
        "\n",
        "\n",
        "\n",
        "\n",
        "\n",
        "\n",
        "\n",
        "\n",
        "\n",
        "\n",
        "\n",
        "\n",
        "\n",
        "\n",
        "\n",
        "\n",
        "\n",
        "\n",
        "\n",
        "\n",
        "\n",
        "\n",
        "\n",
        "\n",
        "\n",
        "\n",
        "\n",
        "\n",
        "\n",
        "\n",
        "\n",
        "\n",
        "\n",
        "\n",
        "\n",
        "\n",
        "\n",
        "\n",
        "\n",
        "\n",
        "\n",
        "\n",
        "\n",
        "\n",
        "\n",
        "\n",
        "\n",
        "\n",
        "\n",
        "\n",
        "\n",
        "\n",
        "\n",
        "\n",
        "\n",
        "\n",
        "\n",
        "\n",
        "\n",
        "\n",
        "\n",
        "\n",
        "\n",
        "\n",
        "\n",
        "\n",
        "\n",
        "\n",
        "\n",
        "\n",
        "\n",
        "\n",
        "\n",
        "\n",
        "\n",
        "\n",
        "\n",
        "\n",
        "\n",
        "\n",
        "\n",
        "\n",
        "Exercise 17:\n",
        "\n",
        "\n",
        "Write a Python program to remove None values from a given list using the lambda function.\n",
        "Original list:\n",
        "[12, 0, None, 23, None, -55, 234, 89, None, 0, 6, -12]\n",
        "Remove None value from the said list:\n",
        "[12, 0, 23, -55, 234, 89, 0, 6, -12]\n"
      ],
      "metadata": {
        "id": "AD2ICcCsHv4U"
      }
    },
    {
      "cell_type": "code",
      "source": [
        "# original list\n",
        "original_list = [12, 0, None, 23, None, -55, 234, 89, None, 0, 6, -12]\n",
        "\n",
        "# Remove None values using filter and lambda\n",
        "remove_none = lambda lst: list(filter(lambda x: x is not None, lst))\n",
        "\n",
        "# Get the result\n",
        "result = remove_none(original_list)\n",
        "\n",
        "print(\"original list:\")\n",
        "print(original_list)\n",
        "print(\"Remove None value from the said list:\")\n",
        "print(result)"
      ],
      "metadata": {
        "colab": {
          "base_uri": "https://localhost:8080/"
        },
        "id": "Ad1kFPOJ1S1H",
        "outputId": "1d661d08-805d-42e2-c77c-c9abc045b771"
      },
      "execution_count": 10,
      "outputs": [
        {
          "output_type": "stream",
          "name": "stdout",
          "text": [
            "original list:\n",
            "[12, 0, None, 23, None, -55, 234, 89, None, 0, 6, -12]\n",
            "Remove None value from the said list:\n",
            "[12, 0, 23, -55, 234, 89, 0, 6, -12]\n"
          ]
        }
      ]
    }
  ]
}